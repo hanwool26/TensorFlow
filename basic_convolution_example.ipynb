{
 "cells": [
  {
   "cell_type": "code",
   "execution_count": 2,
   "metadata": {},
   "outputs": [
    {
     "name": "stderr",
     "output_type": "stream",
     "text": [
      "Using TensorFlow backend.\n"
     ]
    }
   ],
   "source": [
    "import numpy\n",
    "from keras.models import Sequential\n",
    "from keras.layers import Dense\n",
    "from keras.layers import Flatten\n",
    "from keras.layers.convolutional import Conv2D\n",
    "from keras.layers.convolutional import MaxPooling2D\n",
    "from keras.utils import np_utils"
   ]
  },
  {
   "cell_type": "code",
   "execution_count": 3,
   "metadata": {},
   "outputs": [],
   "source": [
    "model = Sequential()\n",
    "model.add(Conv2D(2,(3,3), padding='same', activation='relu', input_shape=(8,8,1)))\n",
    "model.add(MaxPooling2D(pool_size=(2,2)))\n",
    "model.add(Conv2D(3,(2,2),padding='same', activation='relu'))\n",
    "model.add(Flatten())\n",
    "model.add(Dense(8, activation='relu'))\n",
    "model.add(Dense(3, activation='softmax'))"
   ]
  },
  {
   "cell_type": "code",
   "execution_count": 4,
   "metadata": {},
   "outputs": [
    {
     "data": {
      "image/svg+xml": [
       "<svg height=\"737pt\" viewBox=\"0.00 0.00 371.00 553.00\" width=\"495pt\" xmlns=\"http://www.w3.org/2000/svg\" xmlns:xlink=\"http://www.w3.org/1999/xlink\">\n",
       "<g class=\"graph\" id=\"graph0\" transform=\"scale(1.33333 1.33333) rotate(0) translate(4 549)\">\n",
       "<title>G</title>\n",
       "<polygon fill=\"white\" points=\"-4,4 -4,-549 367,-549 367,4 -4,4\" stroke=\"none\"/>\n",
       "<!-- 2458444862856 -->\n",
       "<g class=\"node\" id=\"node1\"><title>2458444862856</title>\n",
       "<polygon fill=\"none\" points=\"16.5,-498.5 16.5,-544.5 346.5,-544.5 346.5,-498.5 16.5,-498.5\" stroke=\"black\"/>\n",
       "<text font-family=\"Times New Roman,serif\" font-size=\"14.00\" text-anchor=\"middle\" x=\"104.5\" y=\"-517.8\">conv2d_1_input: InputLayer</text>\n",
       "<polyline fill=\"none\" points=\"192.5,-498.5 192.5,-544.5 \" stroke=\"black\"/>\n",
       "<text font-family=\"Times New Roman,serif\" font-size=\"14.00\" text-anchor=\"middle\" x=\"220.5\" y=\"-529.3\">input:</text>\n",
       "<polyline fill=\"none\" points=\"192.5,-521.5 248.5,-521.5 \" stroke=\"black\"/>\n",
       "<text font-family=\"Times New Roman,serif\" font-size=\"14.00\" text-anchor=\"middle\" x=\"220.5\" y=\"-506.3\">output:</text>\n",
       "<polyline fill=\"none\" points=\"248.5,-498.5 248.5,-544.5 \" stroke=\"black\"/>\n",
       "<text font-family=\"Times New Roman,serif\" font-size=\"14.00\" text-anchor=\"middle\" x=\"297.5\" y=\"-529.3\">(None, 8, 8, 1)</text>\n",
       "<polyline fill=\"none\" points=\"248.5,-521.5 346.5,-521.5 \" stroke=\"black\"/>\n",
       "<text font-family=\"Times New Roman,serif\" font-size=\"14.00\" text-anchor=\"middle\" x=\"297.5\" y=\"-506.3\">(None, 8, 8, 1)</text>\n",
       "</g>\n",
       "<!-- 2458444751176 -->\n",
       "<g class=\"node\" id=\"node2\"><title>2458444751176</title>\n",
       "<polygon fill=\"none\" points=\"41,-415.5 41,-461.5 322,-461.5 322,-415.5 41,-415.5\" stroke=\"black\"/>\n",
       "<text font-family=\"Times New Roman,serif\" font-size=\"14.00\" text-anchor=\"middle\" x=\"104.5\" y=\"-434.8\">conv2d_1: Conv2D</text>\n",
       "<polyline fill=\"none\" points=\"168,-415.5 168,-461.5 \" stroke=\"black\"/>\n",
       "<text font-family=\"Times New Roman,serif\" font-size=\"14.00\" text-anchor=\"middle\" x=\"196\" y=\"-446.3\">input:</text>\n",
       "<polyline fill=\"none\" points=\"168,-438.5 224,-438.5 \" stroke=\"black\"/>\n",
       "<text font-family=\"Times New Roman,serif\" font-size=\"14.00\" text-anchor=\"middle\" x=\"196\" y=\"-423.3\">output:</text>\n",
       "<polyline fill=\"none\" points=\"224,-415.5 224,-461.5 \" stroke=\"black\"/>\n",
       "<text font-family=\"Times New Roman,serif\" font-size=\"14.00\" text-anchor=\"middle\" x=\"273\" y=\"-446.3\">(None, 8, 8, 1)</text>\n",
       "<polyline fill=\"none\" points=\"224,-438.5 322,-438.5 \" stroke=\"black\"/>\n",
       "<text font-family=\"Times New Roman,serif\" font-size=\"14.00\" text-anchor=\"middle\" x=\"273\" y=\"-423.3\">(None, 8, 8, 2)</text>\n",
       "</g>\n",
       "<!-- 2458444862856&#45;&gt;2458444751176 -->\n",
       "<g class=\"edge\" id=\"edge1\"><title>2458444862856-&gt;2458444751176</title>\n",
       "<path d=\"M181.5,-498.366C181.5,-490.152 181.5,-480.658 181.5,-471.725\" fill=\"none\" stroke=\"black\"/>\n",
       "<polygon fill=\"black\" points=\"185,-471.607 181.5,-461.607 178,-471.607 185,-471.607\" stroke=\"black\"/>\n",
       "</g>\n",
       "<!-- 2458444754376 -->\n",
       "<g class=\"node\" id=\"node3\"><title>2458444754376</title>\n",
       "<polygon fill=\"none\" points=\"0,-332.5 0,-378.5 363,-378.5 363,-332.5 0,-332.5\" stroke=\"black\"/>\n",
       "<text font-family=\"Times New Roman,serif\" font-size=\"14.00\" text-anchor=\"middle\" x=\"104.5\" y=\"-351.8\">max_pooling2d_1: MaxPooling2D</text>\n",
       "<polyline fill=\"none\" points=\"209,-332.5 209,-378.5 \" stroke=\"black\"/>\n",
       "<text font-family=\"Times New Roman,serif\" font-size=\"14.00\" text-anchor=\"middle\" x=\"237\" y=\"-363.3\">input:</text>\n",
       "<polyline fill=\"none\" points=\"209,-355.5 265,-355.5 \" stroke=\"black\"/>\n",
       "<text font-family=\"Times New Roman,serif\" font-size=\"14.00\" text-anchor=\"middle\" x=\"237\" y=\"-340.3\">output:</text>\n",
       "<polyline fill=\"none\" points=\"265,-332.5 265,-378.5 \" stroke=\"black\"/>\n",
       "<text font-family=\"Times New Roman,serif\" font-size=\"14.00\" text-anchor=\"middle\" x=\"314\" y=\"-363.3\">(None, 8, 8, 2)</text>\n",
       "<polyline fill=\"none\" points=\"265,-355.5 363,-355.5 \" stroke=\"black\"/>\n",
       "<text font-family=\"Times New Roman,serif\" font-size=\"14.00\" text-anchor=\"middle\" x=\"314\" y=\"-340.3\">(None, 4, 4, 2)</text>\n",
       "</g>\n",
       "<!-- 2458444751176&#45;&gt;2458444754376 -->\n",
       "<g class=\"edge\" id=\"edge2\"><title>2458444751176-&gt;2458444754376</title>\n",
       "<path d=\"M181.5,-415.366C181.5,-407.152 181.5,-397.658 181.5,-388.725\" fill=\"none\" stroke=\"black\"/>\n",
       "<polygon fill=\"black\" points=\"185,-388.607 181.5,-378.607 178,-388.607 185,-388.607\" stroke=\"black\"/>\n",
       "</g>\n",
       "<!-- 2458446202056 -->\n",
       "<g class=\"node\" id=\"node4\"><title>2458446202056</title>\n",
       "<polygon fill=\"none\" points=\"41,-249.5 41,-295.5 322,-295.5 322,-249.5 41,-249.5\" stroke=\"black\"/>\n",
       "<text font-family=\"Times New Roman,serif\" font-size=\"14.00\" text-anchor=\"middle\" x=\"104.5\" y=\"-268.8\">conv2d_2: Conv2D</text>\n",
       "<polyline fill=\"none\" points=\"168,-249.5 168,-295.5 \" stroke=\"black\"/>\n",
       "<text font-family=\"Times New Roman,serif\" font-size=\"14.00\" text-anchor=\"middle\" x=\"196\" y=\"-280.3\">input:</text>\n",
       "<polyline fill=\"none\" points=\"168,-272.5 224,-272.5 \" stroke=\"black\"/>\n",
       "<text font-family=\"Times New Roman,serif\" font-size=\"14.00\" text-anchor=\"middle\" x=\"196\" y=\"-257.3\">output:</text>\n",
       "<polyline fill=\"none\" points=\"224,-249.5 224,-295.5 \" stroke=\"black\"/>\n",
       "<text font-family=\"Times New Roman,serif\" font-size=\"14.00\" text-anchor=\"middle\" x=\"273\" y=\"-280.3\">(None, 4, 4, 2)</text>\n",
       "<polyline fill=\"none\" points=\"224,-272.5 322,-272.5 \" stroke=\"black\"/>\n",
       "<text font-family=\"Times New Roman,serif\" font-size=\"14.00\" text-anchor=\"middle\" x=\"273\" y=\"-257.3\">(None, 4, 4, 3)</text>\n",
       "</g>\n",
       "<!-- 2458444754376&#45;&gt;2458446202056 -->\n",
       "<g class=\"edge\" id=\"edge3\"><title>2458444754376-&gt;2458446202056</title>\n",
       "<path d=\"M181.5,-332.366C181.5,-324.152 181.5,-314.658 181.5,-305.725\" fill=\"none\" stroke=\"black\"/>\n",
       "<polygon fill=\"black\" points=\"185,-305.607 181.5,-295.607 178,-305.607 185,-305.607\" stroke=\"black\"/>\n",
       "</g>\n",
       "<!-- 2458446202952 -->\n",
       "<g class=\"node\" id=\"node5\"><title>2458446202952</title>\n",
       "<polygon fill=\"none\" points=\"50,-166.5 50,-212.5 313,-212.5 313,-166.5 50,-166.5\" stroke=\"black\"/>\n",
       "<text font-family=\"Times New Roman,serif\" font-size=\"14.00\" text-anchor=\"middle\" x=\"104.5\" y=\"-185.8\">flatten_1: Flatten</text>\n",
       "<polyline fill=\"none\" points=\"159,-166.5 159,-212.5 \" stroke=\"black\"/>\n",
       "<text font-family=\"Times New Roman,serif\" font-size=\"14.00\" text-anchor=\"middle\" x=\"187\" y=\"-197.3\">input:</text>\n",
       "<polyline fill=\"none\" points=\"159,-189.5 215,-189.5 \" stroke=\"black\"/>\n",
       "<text font-family=\"Times New Roman,serif\" font-size=\"14.00\" text-anchor=\"middle\" x=\"187\" y=\"-174.3\">output:</text>\n",
       "<polyline fill=\"none\" points=\"215,-166.5 215,-212.5 \" stroke=\"black\"/>\n",
       "<text font-family=\"Times New Roman,serif\" font-size=\"14.00\" text-anchor=\"middle\" x=\"264\" y=\"-197.3\">(None, 4, 4, 3)</text>\n",
       "<polyline fill=\"none\" points=\"215,-189.5 313,-189.5 \" stroke=\"black\"/>\n",
       "<text font-family=\"Times New Roman,serif\" font-size=\"14.00\" text-anchor=\"middle\" x=\"264\" y=\"-174.3\">(None, 48)</text>\n",
       "</g>\n",
       "<!-- 2458446202056&#45;&gt;2458446202952 -->\n",
       "<g class=\"edge\" id=\"edge4\"><title>2458446202056-&gt;2458446202952</title>\n",
       "<path d=\"M181.5,-249.366C181.5,-241.152 181.5,-231.658 181.5,-222.725\" fill=\"none\" stroke=\"black\"/>\n",
       "<polygon fill=\"black\" points=\"185,-222.607 181.5,-212.607 178,-222.607 185,-222.607\" stroke=\"black\"/>\n",
       "</g>\n",
       "<!-- 2458446262984 -->\n",
       "<g class=\"node\" id=\"node6\"><title>2458446262984</title>\n",
       "<polygon fill=\"none\" points=\"63,-83.5 63,-129.5 300,-129.5 300,-83.5 63,-83.5\" stroke=\"black\"/>\n",
       "<text font-family=\"Times New Roman,serif\" font-size=\"14.00\" text-anchor=\"middle\" x=\"115\" y=\"-102.8\">dense_1: Dense</text>\n",
       "<polyline fill=\"none\" points=\"167,-83.5 167,-129.5 \" stroke=\"black\"/>\n",
       "<text font-family=\"Times New Roman,serif\" font-size=\"14.00\" text-anchor=\"middle\" x=\"195\" y=\"-114.3\">input:</text>\n",
       "<polyline fill=\"none\" points=\"167,-106.5 223,-106.5 \" stroke=\"black\"/>\n",
       "<text font-family=\"Times New Roman,serif\" font-size=\"14.00\" text-anchor=\"middle\" x=\"195\" y=\"-91.3\">output:</text>\n",
       "<polyline fill=\"none\" points=\"223,-83.5 223,-129.5 \" stroke=\"black\"/>\n",
       "<text font-family=\"Times New Roman,serif\" font-size=\"14.00\" text-anchor=\"middle\" x=\"261.5\" y=\"-114.3\">(None, 48)</text>\n",
       "<polyline fill=\"none\" points=\"223,-106.5 300,-106.5 \" stroke=\"black\"/>\n",
       "<text font-family=\"Times New Roman,serif\" font-size=\"14.00\" text-anchor=\"middle\" x=\"261.5\" y=\"-91.3\">(None, 8)</text>\n",
       "</g>\n",
       "<!-- 2458446202952&#45;&gt;2458446262984 -->\n",
       "<g class=\"edge\" id=\"edge5\"><title>2458446202952-&gt;2458446262984</title>\n",
       "<path d=\"M181.5,-166.366C181.5,-158.152 181.5,-148.658 181.5,-139.725\" fill=\"none\" stroke=\"black\"/>\n",
       "<polygon fill=\"black\" points=\"185,-139.607 181.5,-129.607 178,-139.607 185,-139.607\" stroke=\"black\"/>\n",
       "</g>\n",
       "<!-- 2458446443016 -->\n",
       "<g class=\"node\" id=\"node7\"><title>2458446443016</title>\n",
       "<polygon fill=\"none\" points=\"66.5,-0.5 66.5,-46.5 296.5,-46.5 296.5,-0.5 66.5,-0.5\" stroke=\"black\"/>\n",
       "<text font-family=\"Times New Roman,serif\" font-size=\"14.00\" text-anchor=\"middle\" x=\"118.5\" y=\"-19.8\">dense_2: Dense</text>\n",
       "<polyline fill=\"none\" points=\"170.5,-0.5 170.5,-46.5 \" stroke=\"black\"/>\n",
       "<text font-family=\"Times New Roman,serif\" font-size=\"14.00\" text-anchor=\"middle\" x=\"198.5\" y=\"-31.3\">input:</text>\n",
       "<polyline fill=\"none\" points=\"170.5,-23.5 226.5,-23.5 \" stroke=\"black\"/>\n",
       "<text font-family=\"Times New Roman,serif\" font-size=\"14.00\" text-anchor=\"middle\" x=\"198.5\" y=\"-8.3\">output:</text>\n",
       "<polyline fill=\"none\" points=\"226.5,-0.5 226.5,-46.5 \" stroke=\"black\"/>\n",
       "<text font-family=\"Times New Roman,serif\" font-size=\"14.00\" text-anchor=\"middle\" x=\"261.5\" y=\"-31.3\">(None, 8)</text>\n",
       "<polyline fill=\"none\" points=\"226.5,-23.5 296.5,-23.5 \" stroke=\"black\"/>\n",
       "<text font-family=\"Times New Roman,serif\" font-size=\"14.00\" text-anchor=\"middle\" x=\"261.5\" y=\"-8.3\">(None, 3)</text>\n",
       "</g>\n",
       "<!-- 2458446262984&#45;&gt;2458446443016 -->\n",
       "<g class=\"edge\" id=\"edge6\"><title>2458446262984-&gt;2458446443016</title>\n",
       "<path d=\"M181.5,-83.3664C181.5,-75.1516 181.5,-65.6579 181.5,-56.7252\" fill=\"none\" stroke=\"black\"/>\n",
       "<polygon fill=\"black\" points=\"185,-56.6068 181.5,-46.6068 178,-56.6069 185,-56.6068\" stroke=\"black\"/>\n",
       "</g>\n",
       "</g>\n",
       "</svg>"
      ],
      "text/plain": [
       "<IPython.core.display.SVG object>"
      ]
     },
     "execution_count": 4,
     "metadata": {},
     "output_type": "execute_result"
    }
   ],
   "source": [
    "from IPython.display import SVG\n",
    "from keras.utils.vis_utils import model_to_dot\n",
    "\n",
    "%matplotlib inline\n",
    "SVG(model_to_dot(model, show_shapes=True).create(prog='dot', format='svg'))"
   ]
  },
  {
   "cell_type": "code",
   "execution_count": 5,
   "metadata": {},
   "outputs": [],
   "source": [
    "\n"
   ]
  },
  {
   "cell_type": "code",
   "execution_count": 6,
   "metadata": {},
   "outputs": [
    {
     "ename": "NameError",
     "evalue": "name 'train_generator' is not defined",
     "output_type": "error",
     "traceback": [
      "\u001b[1;31m---------------------------------------------------------------------------\u001b[0m",
      "\u001b[1;31mNameError\u001b[0m                                 Traceback (most recent call last)",
      "\u001b[1;32m<ipython-input-6-590619ba9126>\u001b[0m in \u001b[0;36m<module>\u001b[1;34m\u001b[0m\n\u001b[0;32m      1\u001b[0m model.fit_generator(\n\u001b[1;32m----> 2\u001b[1;33m         \u001b[0mtrain_generator\u001b[0m\u001b[1;33m,\u001b[0m\u001b[1;33m\u001b[0m\u001b[1;33m\u001b[0m\u001b[0m\n\u001b[0m\u001b[0;32m      3\u001b[0m         \u001b[0msteps_per_epoch\u001b[0m\u001b[1;33m=\u001b[0m\u001b[1;36m15\u001b[0m\u001b[1;33m,\u001b[0m\u001b[1;33m\u001b[0m\u001b[1;33m\u001b[0m\u001b[0m\n\u001b[0;32m      4\u001b[0m         \u001b[0mepochs\u001b[0m\u001b[1;33m=\u001b[0m\u001b[1;36m50\u001b[0m\u001b[1;33m,\u001b[0m\u001b[1;33m\u001b[0m\u001b[1;33m\u001b[0m\u001b[0m\n\u001b[0;32m      5\u001b[0m         \u001b[0mvalidation_data\u001b[0m\u001b[1;33m=\u001b[0m\u001b[0mtest_generator\u001b[0m\u001b[1;33m,\u001b[0m\u001b[1;33m\u001b[0m\u001b[1;33m\u001b[0m\u001b[0m\n",
      "\u001b[1;31mNameError\u001b[0m: name 'train_generator' is not defined"
     ]
    }
   ],
   "source": []
  },
  {
   "cell_type": "code",
   "execution_count": null,
   "metadata": {},
   "outputs": [],
   "source": []
  }
 ],
 "metadata": {
  "kernelspec": {
   "display_name": "Python 3",
   "language": "python",
   "name": "python3"
  },
  "language_info": {
   "codemirror_mode": {
    "name": "ipython",
    "version": 3
   },
   "file_extension": ".py",
   "mimetype": "text/x-python",
   "name": "python",
   "nbconvert_exporter": "python",
   "pygments_lexer": "ipython3",
   "version": "3.7.5"
  }
 },
 "nbformat": 4,
 "nbformat_minor": 2
}
